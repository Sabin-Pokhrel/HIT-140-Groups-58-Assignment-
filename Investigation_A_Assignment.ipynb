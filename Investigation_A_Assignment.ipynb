{
 "cells": [
  {
   "cell_type": "markdown",
   "id": "13e5956b",
   "metadata": {},
   "source": [
    "\n",
    "# Investigation A — Do bats perceive rats as predators?\n",
    "**HIT140 — Foundations of Data Science (Assessment 2)**\n",
    "\n",
    "What we are doing here is:\n",
    "- Load and inspect `dataset1.csv` and `dataset2.csv`\n",
    "- Data cleaning and feature engineering\n",
    "- Descriptive analysis and plots\n",
    "- Inferential tests (Chi-square, Mann-Whitney U)\n",
    "\n"
   ]
  },
  {
   "cell_type": "code",
   "execution_count": 25,
   "id": "e366096a",
   "metadata": {},
   "outputs": [],
   "source": [
    "\n",
    "# Imports\n",
    "import pandas as pd\n",
    "import numpy as np\n",
    "import matplotlib.pyplot as plt\n",
    "from scipy import stats\n",
    "import statsmodels.formula.api as smf\n",
    "import os\n",
    "\n",
    "pd.options.display.max_columns = 200\n"
   ]
  },
  {
   "cell_type": "code",
   "execution_count": 26,
   "id": "a04bbf7a",
   "metadata": {},
   "outputs": [
    {
     "name": "stdout",
     "output_type": "stream",
     "text": [
      "Dataset1 shape: (907, 12)\n",
      "Dataset2 shape: (2123, 7)\n"
     ]
    },
    {
     "data": {
      "text/html": [
       "<div>\n",
       "<style scoped>\n",
       "    .dataframe tbody tr th:only-of-type {\n",
       "        vertical-align: middle;\n",
       "    }\n",
       "\n",
       "    .dataframe tbody tr th {\n",
       "        vertical-align: top;\n",
       "    }\n",
       "\n",
       "    .dataframe thead th {\n",
       "        text-align: right;\n",
       "    }\n",
       "</style>\n",
       "<table border=\"1\" class=\"dataframe\">\n",
       "  <thead>\n",
       "    <tr style=\"text-align: right;\">\n",
       "      <th></th>\n",
       "      <th>start_time</th>\n",
       "      <th>bat_landing_to_food</th>\n",
       "      <th>habit</th>\n",
       "      <th>rat_period_start</th>\n",
       "      <th>rat_period_end</th>\n",
       "      <th>seconds_after_rat_arrival</th>\n",
       "      <th>risk</th>\n",
       "      <th>reward</th>\n",
       "      <th>month</th>\n",
       "      <th>sunset_time</th>\n",
       "      <th>hours_after_sunset</th>\n",
       "      <th>season</th>\n",
       "    </tr>\n",
       "  </thead>\n",
       "  <tbody>\n",
       "    <tr>\n",
       "      <th>0</th>\n",
       "      <td>30/12/2017 18:37</td>\n",
       "      <td>16.000000</td>\n",
       "      <td>rat</td>\n",
       "      <td>30/12/2017 18:35</td>\n",
       "      <td>30/12/2017 18:38</td>\n",
       "      <td>108</td>\n",
       "      <td>1</td>\n",
       "      <td>0</td>\n",
       "      <td>0</td>\n",
       "      <td>30/12/2017 16:45</td>\n",
       "      <td>1.870833</td>\n",
       "      <td>0</td>\n",
       "    </tr>\n",
       "    <tr>\n",
       "      <th>1</th>\n",
       "      <td>30/12/2017 19:51</td>\n",
       "      <td>0.074016</td>\n",
       "      <td>fast</td>\n",
       "      <td>30/12/2017 19:50</td>\n",
       "      <td>30/12/2017 19:55</td>\n",
       "      <td>17</td>\n",
       "      <td>0</td>\n",
       "      <td>1</td>\n",
       "      <td>0</td>\n",
       "      <td>30/12/2017 16:45</td>\n",
       "      <td>3.100833</td>\n",
       "      <td>0</td>\n",
       "    </tr>\n",
       "    <tr>\n",
       "      <th>2</th>\n",
       "      <td>30/12/2017 19:51</td>\n",
       "      <td>4.000000</td>\n",
       "      <td>fast</td>\n",
       "      <td>30/12/2017 19:50</td>\n",
       "      <td>30/12/2017 19:55</td>\n",
       "      <td>41</td>\n",
       "      <td>0</td>\n",
       "      <td>1</td>\n",
       "      <td>0</td>\n",
       "      <td>30/12/2017 16:45</td>\n",
       "      <td>3.107500</td>\n",
       "      <td>0</td>\n",
       "    </tr>\n",
       "    <tr>\n",
       "      <th>3</th>\n",
       "      <td>30/12/2017 19:52</td>\n",
       "      <td>10.000000</td>\n",
       "      <td>rat</td>\n",
       "      <td>30/12/2017 19:50</td>\n",
       "      <td>30/12/2017 19:55</td>\n",
       "      <td>111</td>\n",
       "      <td>1</td>\n",
       "      <td>0</td>\n",
       "      <td>0</td>\n",
       "      <td>30/12/2017 16:45</td>\n",
       "      <td>3.126944</td>\n",
       "      <td>0</td>\n",
       "    </tr>\n",
       "    <tr>\n",
       "      <th>4</th>\n",
       "      <td>30/12/2017 19:54</td>\n",
       "      <td>15.000000</td>\n",
       "      <td>rat</td>\n",
       "      <td>30/12/2017 19:50</td>\n",
       "      <td>30/12/2017 19:55</td>\n",
       "      <td>194</td>\n",
       "      <td>1</td>\n",
       "      <td>0</td>\n",
       "      <td>0</td>\n",
       "      <td>30/12/2017 16:45</td>\n",
       "      <td>3.150000</td>\n",
       "      <td>0</td>\n",
       "    </tr>\n",
       "  </tbody>\n",
       "</table>\n",
       "</div>"
      ],
      "text/plain": [
       "         start_time  bat_landing_to_food habit  rat_period_start  \\\n",
       "0  30/12/2017 18:37            16.000000   rat  30/12/2017 18:35   \n",
       "1  30/12/2017 19:51             0.074016  fast  30/12/2017 19:50   \n",
       "2  30/12/2017 19:51             4.000000  fast  30/12/2017 19:50   \n",
       "3  30/12/2017 19:52            10.000000   rat  30/12/2017 19:50   \n",
       "4  30/12/2017 19:54            15.000000   rat  30/12/2017 19:50   \n",
       "\n",
       "     rat_period_end  seconds_after_rat_arrival  risk  reward  month  \\\n",
       "0  30/12/2017 18:38                        108     1       0      0   \n",
       "1  30/12/2017 19:55                         17     0       1      0   \n",
       "2  30/12/2017 19:55                         41     0       1      0   \n",
       "3  30/12/2017 19:55                        111     1       0      0   \n",
       "4  30/12/2017 19:55                        194     1       0      0   \n",
       "\n",
       "        sunset_time  hours_after_sunset  season  \n",
       "0  30/12/2017 16:45            1.870833       0  \n",
       "1  30/12/2017 16:45            3.100833       0  \n",
       "2  30/12/2017 16:45            3.107500       0  \n",
       "3  30/12/2017 16:45            3.126944       0  \n",
       "4  30/12/2017 16:45            3.150000       0  "
      ]
     },
     "execution_count": 26,
     "metadata": {},
     "output_type": "execute_result"
    }
   ],
   "source": [
    "\n",
    "# Load datasets\n",
    "d1 = pd.read_csv(\"dataset1.csv\")\n",
    "d2 = pd.read_csv(\"dataset2.csv\")\n",
    "\n",
    "print(\"Dataset1 shape:\", d1.shape)\n",
    "print(\"Dataset2 shape:\", d2.shape)\n",
    "\n",
    "d1.head()\n"
   ]
  },
  {
   "cell_type": "code",
   "execution_count": 27,
   "id": "7b9a9887",
   "metadata": {},
   "outputs": [],
   "source": [
    "# Parse datetime columns with explicit format\n",
    "def parse_datetime(series):\n",
    "    # Use the exact format of your dates to avoid warnings\n",
    "    return pd.to_datetime(series, errors='coerce', format='%d/%m/%Y %H:%M')\n",
    "\n",
    "# Apply to columns in d1\n",
    "for col in ['start_time', 'rat_period_start', 'rat_period_end', 'sunset_time']:\n",
    "    if col in d1.columns:\n",
    "        d1[col] = parse_datetime(d1[col])\n",
    "\n",
    "# Apply to 'time' column in d2\n",
    "if 'time' in d2.columns:\n",
    "    d2['time'] = parse_datetime(d2['time'])\n"
   ]
  },
  {
   "cell_type": "code",
   "execution_count": 28,
   "id": "33e1fdff",
   "metadata": {},
   "outputs": [
    {
     "name": "stdout",
     "output_type": "stream",
     "text": [
      "<class 'pandas.core.frame.DataFrame'>\n",
      "RangeIndex: 907 entries, 0 to 906\n",
      "Data columns (total 12 columns):\n",
      " #   Column                     Non-Null Count  Dtype         \n",
      "---  ------                     --------------  -----         \n",
      " 0   start_time                 907 non-null    datetime64[ns]\n",
      " 1   bat_landing_to_food        907 non-null    float64       \n",
      " 2   habit                      866 non-null    category      \n",
      " 3   rat_period_start           907 non-null    datetime64[ns]\n",
      " 4   rat_period_end             907 non-null    datetime64[ns]\n",
      " 5   seconds_after_rat_arrival  907 non-null    int64         \n",
      " 6   risk                       907 non-null    int64         \n",
      " 7   reward                     907 non-null    int64         \n",
      " 8   month                      907 non-null    category      \n",
      " 9   sunset_time                907 non-null    datetime64[ns]\n",
      " 10  hours_after_sunset         907 non-null    float64       \n",
      " 11  season                     907 non-null    category      \n",
      "dtypes: category(3), datetime64[ns](4), float64(2), int64(3)\n",
      "memory usage: 69.6 KB\n"
     ]
    }
   ],
   "source": [
    "\n",
    "# Convert some columns to categorical\n",
    "for col in ['month','season','habit']:\n",
    "    if col in d1.columns:\n",
    "        d1[col] = d1[col].astype('category')\n",
    "if 'month' in d2.columns:\n",
    "    d2['month'] = d2['month'].astype('category')\n",
    "\n",
    "d1.info()\n"
   ]
  },
  {
   "cell_type": "code",
   "execution_count": 29,
   "id": "3523d822",
   "metadata": {},
   "outputs": [
    {
     "data": {
      "text/plain": [
       "rat_present_at_landing\n",
       "1    907\n",
       "Name: count, dtype: int64"
      ]
     },
     "execution_count": 29,
     "metadata": {},
     "output_type": "execute_result"
    }
   ],
   "source": [
    "\n",
    "# Feature engineering: rat presence at landing\n",
    "if {'start_time','rat_period_start','rat_period_end'}.issubset(d1.columns):\n",
    "    d1['rat_present_at_landing'] = (\n",
    "        (d1['start_time'] >= d1['rat_period_start']) &\n",
    "        (d1['start_time'] <= d1['rat_period_end'])\n",
    "    ).astype(int)\n",
    "elif 'seconds_after_rat_arrival' in d1.columns:\n",
    "    d1['rat_present_at_landing'] = (d1['seconds_after_rat_arrival'] >= 0).astype(int)\n",
    "else:\n",
    "    d1['rat_present_at_landing'] = 0\n",
    "\n",
    "d1['rat_present_at_landing'].value_counts()\n"
   ]
  },
  {
   "cell_type": "code",
   "execution_count": 30,
   "id": "e8289769",
   "metadata": {},
   "outputs": [
    {
     "data": {
      "text/html": [
       "<div>\n",
       "<style scoped>\n",
       "    .dataframe tbody tr th:only-of-type {\n",
       "        vertical-align: middle;\n",
       "    }\n",
       "\n",
       "    .dataframe tbody tr th {\n",
       "        vertical-align: top;\n",
       "    }\n",
       "\n",
       "    .dataframe thead th {\n",
       "        text-align: right;\n",
       "    }\n",
       "</style>\n",
       "<table border=\"1\" class=\"dataframe\">\n",
       "  <thead>\n",
       "    <tr style=\"text-align: right;\">\n",
       "      <th></th>\n",
       "      <th>bat_landing_to_food</th>\n",
       "      <th>seconds_after_rat_arrival</th>\n",
       "      <th>hours_after_sunset</th>\n",
       "    </tr>\n",
       "  </thead>\n",
       "  <tbody>\n",
       "    <tr>\n",
       "      <th>count</th>\n",
       "      <td>907.000000</td>\n",
       "      <td>907.000000</td>\n",
       "      <td>907.000000</td>\n",
       "    </tr>\n",
       "    <tr>\n",
       "      <th>mean</th>\n",
       "      <td>11.713134</td>\n",
       "      <td>282.877619</td>\n",
       "      <td>5.531863</td>\n",
       "    </tr>\n",
       "    <tr>\n",
       "      <th>std</th>\n",
       "      <td>27.644410</td>\n",
       "      <td>240.974918</td>\n",
       "      <td>2.414146</td>\n",
       "    </tr>\n",
       "    <tr>\n",
       "      <th>min</th>\n",
       "      <td>0.010238</td>\n",
       "      <td>0.000000</td>\n",
       "      <td>-0.261667</td>\n",
       "    </tr>\n",
       "    <tr>\n",
       "      <th>25%</th>\n",
       "      <td>1.000000</td>\n",
       "      <td>89.500000</td>\n",
       "      <td>3.779028</td>\n",
       "    </tr>\n",
       "    <tr>\n",
       "      <th>50%</th>\n",
       "      <td>4.000000</td>\n",
       "      <td>206.000000</td>\n",
       "      <td>5.622778</td>\n",
       "    </tr>\n",
       "    <tr>\n",
       "      <th>75%</th>\n",
       "      <td>11.500000</td>\n",
       "      <td>446.500000</td>\n",
       "      <td>7.402778</td>\n",
       "    </tr>\n",
       "    <tr>\n",
       "      <th>max</th>\n",
       "      <td>443.000000</td>\n",
       "      <td>949.000000</td>\n",
       "      <td>12.091944</td>\n",
       "    </tr>\n",
       "  </tbody>\n",
       "</table>\n",
       "</div>"
      ],
      "text/plain": [
       "       bat_landing_to_food  seconds_after_rat_arrival  hours_after_sunset\n",
       "count           907.000000                 907.000000          907.000000\n",
       "mean             11.713134                 282.877619            5.531863\n",
       "std              27.644410                 240.974918            2.414146\n",
       "min               0.010238                   0.000000           -0.261667\n",
       "25%               1.000000                  89.500000            3.779028\n",
       "50%               4.000000                 206.000000            5.622778\n",
       "75%              11.500000                 446.500000            7.402778\n",
       "max             443.000000                 949.000000           12.091944"
      ]
     },
     "execution_count": 30,
     "metadata": {},
     "output_type": "execute_result"
    }
   ],
   "source": [
    "\n",
    "# Descriptive stats\n",
    "d1[['bat_landing_to_food','seconds_after_rat_arrival','hours_after_sunset']].describe()\n"
   ]
  },
  {
   "cell_type": "code",
   "execution_count": 31,
   "id": "7cb55c99",
   "metadata": {},
   "outputs": [
    {
     "name": "stdout",
     "output_type": "stream",
     "text": [
      "risk\n",
      "0    458\n",
      "1    449\n",
      "Name: count, dtype: int64\n",
      "reward\n",
      "1    484\n",
      "0    423\n",
      "Name: count, dtype: int64\n"
     ]
    }
   ],
   "source": [
    "\n",
    "# Risk and reward counts\n",
    "if 'risk' in d1.columns:\n",
    "    print(d1['risk'].value_counts())\n",
    "\n",
    "if 'reward' in d1.columns:\n",
    "    print(d1['reward'].value_counts())\n"
   ]
  },
  {
   "cell_type": "code",
   "execution_count": 32,
   "id": "dee45e13",
   "metadata": {},
   "outputs": [
    {
     "data": {
      "image/png": "[encoded data removed]",
      "text/plain": [
       "<Figure size 640x480 with 1 Axes>"
      ]
     },
     "metadata": {},
     "output_type": "display_data"
    }
   ],
   "source": [
    "\n",
    "# Risk overall plot\n",
    "if 'risk' in d1.columns:\n",
    "    d1['risk'].value_counts().sort_index().plot(kind='bar')\n",
    "    plt.title(\"Risk-taking vs avoidance (all landings)\")\n",
    "    plt.xlabel(\"risk (0=avoid,1=risk-taking)\")\n",
    "    plt.ylabel(\"count\")\n",
    "    plt.show()\n"
   ]
  },
  {
   "cell_type": "code",
   "execution_count": 33,
   "id": "5aba3d4d",
   "metadata": {},
   "outputs": [
    {
     "data": {
      "image/png": "[encoded data removed]",
      "text/plain": [
       "<Figure size 640x480 with 1 Axes>"
      ]
     },
     "metadata": {},
     "output_type": "display_data"
    }
   ],
   "source": [
    "\n",
    "# Risk by rat presence\n",
    "if 'risk' in d1.columns and 'rat_present_at_landing' in d1.columns:\n",
    "    pivot = d1.pivot_table(index='rat_present_at_landing', values='risk', aggfunc='mean')\n",
    "    pivot.plot(kind='bar', legend=False)\n",
    "    plt.title(\"Mean risk-taking by rat presence at landing\")\n",
    "    plt.xlabel(\"rat_present_at_landing (0/1)\")\n",
    "    plt.ylabel(\"mean risk\")\n",
    "    plt.show()\n"
   ]
  },
  {
   "cell_type": "code",
   "execution_count": 34,
   "id": "618b5d48",
   "metadata": {},
   "outputs": [
    {
     "data": {
      "image/png": "[encoded data removed]",
      "text/plain": [
       "<Figure size 640x480 with 1 Axes>"
      ]
     },
     "metadata": {},
     "output_type": "display_data"
    }
   ],
   "source": [
    "\n",
    "# Hesitation boxplot\n",
    "if 'bat_landing_to_food' in d1.columns and 'rat_present_at_landing' in d1.columns:\n",
    "    d1.boxplot(column='bat_landing_to_food', by='rat_present_at_landing')\n",
    "    plt.title(\"Bat landing → food delay by rat presence\")\n",
    "    plt.suptitle(\"\")\n",
    "    plt.xlabel(\"rat_present_at_landing (0/1)\")\n",
    "    plt.ylabel(\"seconds\")\n",
    "    plt.show()\n"
   ]
  },
  {
   "cell_type": "code",
   "execution_count": 35,
   "id": "afcba7e0",
   "metadata": {},
   "outputs": [
    {
     "data": {
      "image/png": "[encoded data removed]",
      "text/plain": [
       "<Figure size 640x480 with 1 Axes>"
      ]
     },
     "metadata": {},
     "output_type": "display_data"
    }
   ],
   "source": [
    "# Rat arrivals by month (dataset2)\n",
    "if 'rat_arrival_number' in d2.columns and 'month' in d2.columns:\n",
    "    d2.groupby('month', observed=False)['rat_arrival_number'].mean().plot(kind='bar')\n",
    "    plt.title(\"Average rat arrivals per 30-min period by month (dataset2)\")\n",
    "    plt.xlabel(\"month\")\n",
    "    plt.ylabel(\"avg rat arrivals\")\n",
    "    plt.show()\n"
   ]
  },
  {
   "cell_type": "code",
   "execution_count": 36,
   "id": "f25cfd4e",
   "metadata": {
    "scrolled": true
   },
   "outputs": [
    {
     "name": "stdout",
     "output_type": "stream",
     "text": [
      "Contingency table:\n",
      " risk                      0    1\n",
      "rat_present_at_landing          \n",
      "1                       458  449\n"
     ]
    }
   ],
   "source": [
    "\n",
    "# Inferential tests\n",
    "\n",
    "# Chi-square: rat presence vs risk\n",
    "if 'risk' in d1.columns and 'rat_present_at_landing' in d1.columns:\n",
    "    ct = pd.crosstab(d1['rat_present_at_landing'], d1['risk'])\n",
    "    print(\"Contingency table:\\n\", ct)\n",
    "    if ct.shape == (2,2):\n",
    "        chi2, p, dof, exp = stats.chi2_contingency(ct)\n",
    "        print(f\"Chi-square: chi2={chi2:.3f}, dof={dof}, p={p:.4g}\")\n",
    "\n",
    "# Mann-Whitney U: hesitation times\n",
    "if 'bat_landing_to_food' in d1.columns and 'rat_present_at_landing' in d1.columns:\n",
    "    g0 = d1.loc[d1['rat_present_at_landing']==0, 'bat_landing_to_food'].dropna()\n",
    "    g1 = d1.loc[d1['rat_present_at_landing']==1, 'bat_landing_to_food'].dropna()\n",
    "    if len(g0)>5 and len(g1)>5:\n",
    "        u, p = stats.mannwhitneyu(g0, g1, alternative='two-sided')\n",
    "        print(f\"Mann-Whitney U: U={u:.1f}, p={p:.4g} (n0={len(g0)}, n1={len(g1)})\")\n"
   ]
  },
  {
   "cell_type": "code",
   "execution_count": null,
   "id": "9b12e5a0",
   "metadata": {},
   "outputs": [],
   "source": []
  },
  {
   "cell_type": "code",
   "execution_count": null,
   "id": "62a327ec",
   "metadata": {},
   "outputs": [],
   "source": []
  }
 ],
 "metadata": {
  "kernelspec": {
   "display_name": "Python 3 (ipykernel)",
   "language": "python",
   "name": "python3"
  },
  "language_info": {
   "codemirror_mode": {
    "name": "ipython",
    "version": 3
   },
   "file_extension": ".py",
   "mimetype": "text/x-python",
   "name": "python",
   "nbconvert_exporter": "python",
   "pygments_lexer": "ipython3",
   "version": "3.11.4"
  }
 },
 "nbformat": 4,
 "nbformat_minor": 5
}
